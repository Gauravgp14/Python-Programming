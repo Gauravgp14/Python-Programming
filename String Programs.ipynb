{
  "nbformat": 4,
  "nbformat_minor": 0,
  "metadata": {
    "colab": {
      "provenance": []
    },
    "kernelspec": {
      "name": "python3",
      "display_name": "Python 3"
    },
    "language_info": {
      "name": "python"
    }
  },
  "cells": [
    {
      "cell_type": "code",
      "execution_count": 1,
      "metadata": {
        "colab": {
          "base_uri": "https://localhost:8080/"
        },
        "id": "KLRcdS3BIxWF",
        "outputId": "952d1537-4039-4461-880c-0855a1f82a91"
      },
      "outputs": [
        {
          "output_type": "stream",
          "name": "stdout",
          "text": [
            "Length of the string using len(): 13\n",
            "Length of the string using a loop: 13\n",
            "Length of the string using str.count(): 13\n"
          ]
        }
      ],
      "source": [
        "#Find length of a string in python\n",
        "#Using the len() Function\n",
        "input_string = \"Hello, World!\"\n",
        "length = len(input_string)\n",
        "print(\"Length of the string using len():\", length)\n",
        "\n",
        "#Using a Loop\n",
        "input_string = \"Hello, World!\"\n",
        "length = 0\n",
        "for char in input_string:\n",
        "    length += 1\n",
        "print(\"Length of the string using a loop:\", length)\n",
        "\n",
        "#Using str.count()\n",
        "input_string = \"Hello, World!\"\n",
        "length = input_string.count('') - 1  # Count empty strings between characters\n",
        "print(\"Length of the string using str.count():\", length)"
      ]
    },
    {
      "cell_type": "code",
      "source": [
        "#Avoid Spaces in string length\n",
        "input_string = \"Hello World\"\n",
        "length = len(input_string.replace(\" \", \"\"))\n",
        "print(length)"
      ],
      "metadata": {
        "colab": {
          "base_uri": "https://localhost:8080/"
        },
        "id": "nGw6IPYCI1mQ",
        "outputId": "1bdb36dc-f7fe-490e-abd8-a467cd5b89af"
      },
      "execution_count": 2,
      "outputs": [
        {
          "output_type": "stream",
          "name": "stdout",
          "text": [
            "10\n"
          ]
        }
      ]
    },
    {
      "cell_type": "code",
      "source": [
        "#Print Even Length Words in a String\n",
        "input_string = \"Hello world this is gaurav\"\n",
        "even_length_words = [word for word in input_string.split() if len(word) % 2 == 0]\n",
        "print(even_length_words)"
      ],
      "metadata": {
        "colab": {
          "base_uri": "https://localhost:8080/"
        },
        "id": "tnUpR41TI4nS",
        "outputId": "34e4a713-c719-4c23-befa-871b2e2d0403"
      },
      "execution_count": 3,
      "outputs": [
        {
          "output_type": "stream",
          "name": "stdout",
          "text": [
            "['this', 'is', 'gaurav']\n"
          ]
        }
      ]
    },
    {
      "cell_type": "code",
      "source": [
        "#Uppercase Half String\n",
        "input_string = \"HelloWorld\"\n",
        "half_index = len(input_string) // 2\n",
        "result = input_string[:half_index].upper() + input_string[half_index:]\n",
        "print(result)"
      ],
      "metadata": {
        "colab": {
          "base_uri": "https://localhost:8080/"
        },
        "id": "47klShckI6zd",
        "outputId": "f7bb05c9-39c9-4926-d3ce-b9b5d5d3f802"
      },
      "execution_count": 4,
      "outputs": [
        {
          "output_type": "stream",
          "name": "stdout",
          "text": [
            "HELLOWorld\n"
          ]
        }
      ]
    },
    {
      "cell_type": "code",
      "source": [
        "#Capitalize First and Last Character of Each Word\n",
        "input_string = \"hello world\"\n",
        "result = ' '.join(word[0].upper() + word[1:-1] + word[-1].upper() for word in input_string.split())\n",
        "print(result)"
      ],
      "metadata": {
        "colab": {
          "base_uri": "https://localhost:8080/"
        },
        "id": "8uUzgOAOI9kb",
        "outputId": "d26400d2-4bcf-4555-f3c3-976aba1c1f84"
      },
      "execution_count": 5,
      "outputs": [
        {
          "output_type": "stream",
          "name": "stdout",
          "text": [
            "HellO WorlD\n"
          ]
        }
      ]
    },
    {
      "cell_type": "code",
      "source": [
        "#Check if a String Has at Least One Letter and One Number\n",
        "input_string = \"Hello123\"\n",
        "has_letter = any(char.isalpha() for char in input_string)\n",
        "has_number = any(char.isdigit() for char in input_string)\n",
        "print(has_letter and has_number)"
      ],
      "metadata": {
        "colab": {
          "base_uri": "https://localhost:8080/"
        },
        "id": "BmBnmbfXJBmc",
        "outputId": "d6e5f423-e0ab-47f6-cc62-61a5c75d7ca4"
      },
      "execution_count": 6,
      "outputs": [
        {
          "output_type": "stream",
          "name": "stdout",
          "text": [
            "True\n"
          ]
        }
      ]
    },
    {
      "cell_type": "code",
      "source": [
        "#Accept Strings Which Contains All Vowels\n",
        "input_string = \"education\"\n",
        "vowels = set(\"aeiouAEIOU\")\n",
        "contains_all_vowels = vowels.issubset(set(input_string))\n",
        "print(contains_all_vowels)"
      ],
      "metadata": {
        "colab": {
          "base_uri": "https://localhost:8080/"
        },
        "id": "GeqtOyrxJCmq",
        "outputId": "9ec9e243-0cfb-468d-811f-201fae336cda"
      },
      "execution_count": 7,
      "outputs": [
        {
          "output_type": "stream",
          "name": "stdout",
          "text": [
            "False\n"
          ]
        }
      ]
    },
    {
      "cell_type": "code",
      "source": [
        "#Count Number of Vowels Using Sets\n",
        "input_string = \"Hello World\"\n",
        "vowels = set(\"aeiouAEIOU\")\n",
        "count = sum(1 for char in input_string if char in vowels)\n",
        "print(count)"
      ],
      "metadata": {
        "colab": {
          "base_uri": "https://localhost:8080/"
        },
        "id": "sNg8JAdtJEsJ",
        "outputId": "bd9f2437-bb81-4bdd-a76b-86944609f81d"
      },
      "execution_count": 8,
      "outputs": [
        {
          "output_type": "stream",
          "name": "stdout",
          "text": [
            "3\n"
          ]
        }
      ]
    },
    {
      "cell_type": "code",
      "source": [
        "#Remove All Duplicates from a Given String\n",
        "input_string = \"Hello World\"\n",
        "result = ''.join(set(input_string))\n",
        "print(result)"
      ],
      "metadata": {
        "colab": {
          "base_uri": "https://localhost:8080/"
        },
        "id": "lPf2gl3mJG_V",
        "outputId": "c7eafddd-8c44-4c11-9734-60ade0d46d5e"
      },
      "execution_count": 9,
      "outputs": [
        {
          "output_type": "stream",
          "name": "stdout",
          "text": [
            " oWldeHr\n"
          ]
        }
      ]
    },
    {
      "cell_type": "code",
      "source": [
        "#Specific Characters Frequency in String List\n",
        "input_string = \"Hello World\"\n",
        "char = 'o'\n",
        "frequency = input_string.count(char)\n",
        "print(frequency)"
      ],
      "metadata": {
        "colab": {
          "base_uri": "https://localhost:8080/"
        },
        "id": "jxVHYYwOJJnz",
        "outputId": "d2240938-a419-466b-b4d1-3ffb0b5f69d6"
      },
      "execution_count": 10,
      "outputs": [
        {
          "output_type": "stream",
          "name": "stdout",
          "text": [
            "2\n"
          ]
        }
      ]
    },
    {
      "cell_type": "code",
      "source": [
        "#Python – Least Frequent Character in String\n",
        "str=\"hello world\"\n",
        "str1=set(str)\n",
        "str1"
      ],
      "metadata": {
        "colab": {
          "base_uri": "https://localhost:8080/"
        },
        "id": "YpWGul55JMA0",
        "outputId": "e5d4bf7f-f137-4c6d-d490-d25982a5f2f3"
      },
      "execution_count": 11,
      "outputs": [
        {
          "output_type": "execute_result",
          "data": {
            "text/plain": [
              "{' ', 'd', 'e', 'h', 'l', 'o', 'r', 'w'}"
            ]
          },
          "metadata": {},
          "execution_count": 11
        }
      ]
    },
    {
      "cell_type": "code",
      "source": [
        "#Python | Maximum frequency character in String\n",
        "\n",
        "str=\"this is my world\"\n",
        "str1=max(str, key=str.count)\n",
        "str1"
      ],
      "metadata": {
        "colab": {
          "base_uri": "https://localhost:8080/",
          "height": 35
        },
        "id": "elTSLdIiJPOX",
        "outputId": "09943899-0e9f-4e78-872a-3f9cd7fa3a99"
      },
      "execution_count": 12,
      "outputs": [
        {
          "output_type": "execute_result",
          "data": {
            "text/plain": [
              "' '"
            ],
            "application/vnd.google.colaboratory.intrinsic+json": {
              "type": "string"
            }
          },
          "metadata": {},
          "execution_count": 12
        }
      ]
    },
    {
      "cell_type": "code",
      "source": [
        "#Python – Odd Frequency Characters\n",
        "str = \"this is my world\"\n",
        "str1 = \"\"\n",
        "for i in str:\n",
        "  if str.count(i)%2 !=0:\n",
        "    str1+=i\n",
        "print(str1)"
      ],
      "metadata": {
        "colab": {
          "base_uri": "https://localhost:8080/"
        },
        "id": "w4IK87eWJR0x",
        "outputId": "a73855e2-3486-49e6-d9a1-0eba9898767a"
      },
      "execution_count": 13,
      "outputs": [
        {
          "output_type": "stream",
          "name": "stdout",
          "text": [
            "th  my world\n"
          ]
        }
      ]
    }
  ]
}