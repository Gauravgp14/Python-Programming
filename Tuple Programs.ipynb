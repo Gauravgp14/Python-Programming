{
  "nbformat": 4,
  "nbformat_minor": 0,
  "metadata": {
    "colab": {
      "provenance": []
    },
    "kernelspec": {
      "name": "python3",
      "display_name": "Python 3"
    },
    "language_info": {
      "name": "python"
    }
  },
  "cells": [
    {
      "cell_type": "code",
      "source": [
        "#Find the Size of a Tuple\n",
        "t = (1, 2, 3)\n",
        "size = len(t)\n",
        "print(size)"
      ],
      "metadata": {
        "colab": {
          "base_uri": "https://localhost:8080/"
        },
        "id": "OLlt-6nQJ8Bu",
        "outputId": "57da6d70-7aa0-4b82-f6f1-41d17d6ad201"
      },
      "execution_count": 15,
      "outputs": [
        {
          "output_type": "stream",
          "name": "stdout",
          "text": [
            "3\n"
          ]
        }
      ]
    },
    {
      "cell_type": "code",
      "source": [
        "#Maximum and Minimum K Elements in Tuple\n",
        "t = (1, 2, 3, 4, 5)\n",
        "k = 2\n",
        "max_k = sorted(t, reverse=True)[:k]\n",
        "min_k = sorted(t)[:k]\n",
        "print(max_k, min_k)"
      ],
      "metadata": {
        "colab": {
          "base_uri": "https://localhost:8080/"
        },
        "id": "e9holL3oJ-x5",
        "outputId": "d301774c-2443-486a-9f27-d2e71abb77e4"
      },
      "execution_count": 14,
      "outputs": [
        {
          "output_type": "stream",
          "name": "stdout",
          "text": [
            "[5, 4] [1, 2]\n"
          ]
        }
      ]
    },
    {
      "cell_type": "code",
      "source": [
        "# Create a List of Tuples from Given List Having Number and Its Cube\n",
        "numbers = [7, 8, 9]\n",
        "cubes = [(x, x**3) for x in numbers]\n",
        "print(cubes)"
      ],
      "metadata": {
        "colab": {
          "base_uri": "https://localhost:8080/"
        },
        "id": "4Fv2PHHxKHVD",
        "outputId": "02a99e5a-fcd3-470a-ae52-e70b0d5e75d2"
      },
      "execution_count": 16,
      "outputs": [
        {
          "output_type": "stream",
          "name": "stdout",
          "text": [
            "[(7, 343), (8, 512), (9, 729)]\n"
          ]
        }
      ]
    },
    {
      "cell_type": "code",
      "source": [
        "#Adding Tuple to List and Vice-Versa\n",
        "t = (2, 3)\n",
        "lst = [5, 8]\n",
        "lst.append(t)  # Adding tuple to list\n",
        "print(lst)\n",
        "t = tuple(lst)  # Converting list to tuple\n",
        "print(t)"
      ],
      "metadata": {
        "colab": {
          "base_uri": "https://localhost:8080/"
        },
        "id": "7x3Qiux8KONG",
        "outputId": "e48b6aa5-da94-4b95-c7dc-49212f6b2cc8"
      },
      "execution_count": 17,
      "outputs": [
        {
          "output_type": "stream",
          "name": "stdout",
          "text": [
            "[5, 8, (2, 3)]\n",
            "(5, 8, (2, 3))\n"
          ]
        }
      ]
    },
    {
      "cell_type": "code",
      "source": [
        "#Sum of Tuple Elements\n",
        "t = (7, 8, 9)\n",
        "total = sum(t)\n",
        "print(total)"
      ],
      "metadata": {
        "colab": {
          "base_uri": "https://localhost:8080/"
        },
        "id": "v4_lCF0_KWPD",
        "outputId": "16c7b409-48b9-434f-e2c9-bf860bfc4c3c"
      },
      "execution_count": 18,
      "outputs": [
        {
          "output_type": "stream",
          "name": "stdout",
          "text": [
            "24\n"
          ]
        }
      ]
    },
    {
      "cell_type": "code",
      "source": [
        "#Modulo of Tuple Elements\n",
        "t = (10, 20, 30)\n",
        "mod_t = tuple(x % 3 for x in t)\n",
        "print(mod_t)"
      ],
      "metadata": {
        "colab": {
          "base_uri": "https://localhost:8080/"
        },
        "id": "x-MA7VEeKbL7",
        "outputId": "eeb27c66-b5b9-4039-db98-45daf042612b"
      },
      "execution_count": 19,
      "outputs": [
        {
          "output_type": "stream",
          "name": "stdout",
          "text": [
            "(1, 2, 0)\n"
          ]
        }
      ]
    },
    {
      "cell_type": "code",
      "source": [
        "#Row-wise Element Addition in Tuple Matrix\n",
        "matrix = ((2, 3), (6, 7))\n",
        "row_sums = tuple(sum(row) for row in matrix)\n",
        "print(row_sums)"
      ],
      "metadata": {
        "colab": {
          "base_uri": "https://localhost:8080/"
        },
        "id": "HZ2KoroCKfq4",
        "outputId": "5baab1f1-9690-40b6-f444-af483298a955"
      },
      "execution_count": 20,
      "outputs": [
        {
          "output_type": "stream",
          "name": "stdout",
          "text": [
            "(5, 13)\n"
          ]
        }
      ]
    },
    {
      "cell_type": "code",
      "source": [
        "#Update Each Element in Tuple List\n",
        "t_list = [(5, 6), (7, 8)]\n",
        "updated = [(x + 1, y + 1) for x, y in t_list]\n",
        "print(updated)"
      ],
      "metadata": {
        "colab": {
          "base_uri": "https://localhost:8080/"
        },
        "id": "BS3srUXKKmug",
        "outputId": "e30ecce4-d991-4fe9-8ae1-f9c818707dba"
      },
      "execution_count": 21,
      "outputs": [
        {
          "output_type": "stream",
          "name": "stdout",
          "text": [
            "[(6, 7), (8, 9)]\n"
          ]
        }
      ]
    },
    {
      "cell_type": "code",
      "source": [
        "#Join Tuples if Similar Initial Element\n",
        "t1 = (1, 2)\n",
        "t2 = (1, 3)\n",
        "joined = t1 + t2 if t1[0] == t2[0] else (t1, t2)\n",
        "print(joined)"
      ],
      "metadata": {
        "colab": {
          "base_uri": "https://localhost:8080/"
        },
        "id": "V5N29FtRKs9Z",
        "outputId": "596a574d-1807-4a45-9edb-1c56750527ca"
      },
      "execution_count": 22,
      "outputs": [
        {
          "output_type": "stream",
          "name": "stdout",
          "text": [
            "(1, 2, 1, 3)\n"
          ]
        }
      ]
    },
    {
      "cell_type": "code",
      "source": [
        "#All Pair Combinations of 2 Tuples\n",
        "from itertools import product\n",
        "\n",
        "t1 = (2, 3)\n",
        "t2 = (4, 5)\n",
        "combinations = list(product(t1, t2))\n",
        "print(combinations)"
      ],
      "metadata": {
        "colab": {
          "base_uri": "https://localhost:8080/"
        },
        "id": "CHhpREmJKyNW",
        "outputId": "7559817f-4ba7-474e-fa11-5d9c13c961cd"
      },
      "execution_count": 23,
      "outputs": [
        {
          "output_type": "stream",
          "name": "stdout",
          "text": [
            "[(2, 4), (2, 5), (3, 4), (3, 5)]\n"
          ]
        }
      ]
    },
    {
      "cell_type": "code",
      "source": [
        "#Remove Tuples of Length K\n",
        "lst = [(1, 2), (3, 4), (5, 6)]\n",
        "k = 2\n",
        "filtered = [t for t in lst if len(t) != k]\n",
        "print(filtered)"
      ],
      "metadata": {
        "colab": {
          "base_uri": "https://localhost:8080/"
        },
        "id": "Khe1E3bnK6I1",
        "outputId": "3ec2a493-936e-44f8-aefe-e528135e0826"
      },
      "execution_count": 24,
      "outputs": [
        {
          "output_type": "stream",
          "name": "stdout",
          "text": [
            "[]\n"
          ]
        }
      ]
    },
    {
      "cell_type": "code",
      "source": [
        "#Remove Tuples from the List Having Every Element as None\n",
        "lst = [(6, 7), (None, None), (8, 9)]\n",
        "filtered = [t for t in lst if all(x is None for x in t)]\n",
        "print(filtered)"
      ],
      "metadata": {
        "colab": {
          "base_uri": "https://localhost:8080/"
        },
        "id": "74rqM7a3K-JB",
        "outputId": "36378fa2-2bc0-4d0e-a9ba-2c38cd749846"
      },
      "execution_count": 25,
      "outputs": [
        {
          "output_type": "stream",
          "name": "stdout",
          "text": [
            "[(None, None)]\n"
          ]
        }
      ]
    },
    {
      "cell_type": "code",
      "source": [
        "#Sort a List of Tuples by Second Item\n",
        "t_list = [(5, 7), (6, 5), (7, 6)]\n",
        "sorted_list = sorted(t_list, key=lambda x: x[1])\n",
        "print(sorted_list)"
      ],
      "metadata": {
        "colab": {
          "base_uri": "https://localhost:8080/"
        },
        "id": "MAIWQo0FLqM_",
        "outputId": "146a4ef5-b1fb-40e2-ef36-4f3ae40b0364"
      },
      "execution_count": 26,
      "outputs": [
        {
          "output_type": "stream",
          "name": "stdout",
          "text": [
            "[(6, 5), (7, 6), (5, 7)]\n"
          ]
        }
      ]
    },
    {
      "cell_type": "code",
      "source": [
        "#Filter Range Length Tuples\n",
        "t_list = [(1, 2), (3, 4, 5), (6,)]\n",
        "filtered = [t for t in t_list if 2 <= len(t) <= 3]\n",
        "print(filtered)"
      ],
      "metadata": {
        "colab": {
          "base_uri": "https://localhost:8080/"
        },
        "id": "wyZl9vkPL5Dy",
        "outputId": "2d27c65e-86d4-4f68-8c4b-6824c725395d"
      },
      "execution_count": 30,
      "outputs": [
        {
          "output_type": "stream",
          "name": "stdout",
          "text": [
            "[(1, 2), (3, 4, 5)]\n"
          ]
        }
      ]
    },
    {
      "cell_type": "code",
      "source": [
        "#Removing Duplicates from Tuple\n",
        "t = (1, 2, 2, 3)\n",
        "result = tuple(set(t))\n",
        "print(result)"
      ],
      "metadata": {
        "colab": {
          "base_uri": "https://localhost:8080/"
        },
        "id": "Nzy0ogQCMLG7",
        "outputId": "cfc9d331-842c-4577-fe85-cd6b3fa11610"
      },
      "execution_count": 31,
      "outputs": [
        {
          "output_type": "stream",
          "name": "stdout",
          "text": [
            "(1, 2, 3)\n"
          ]
        }
      ]
    }
  ]
}