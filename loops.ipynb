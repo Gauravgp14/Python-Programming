{
 "cells": [
  {
   "cell_type": "code",
   "execution_count": 1,
   "id": "08fd4f19-d427-49ce-9f76-f560ad157f40",
   "metadata": {},
   "outputs": [
    {
     "name": "stdout",
     "output_type": "stream",
     "text": [
      "1\n",
      "2\n",
      "3\n",
      "4\n",
      "5\n"
     ]
    }
   ],
   "source": [
    "i=0\n",
    "while i<5:\n",
    "    i+=1\n",
    "    print (i)"
   ]
  },
  {
   "cell_type": "code",
   "execution_count": 7,
   "id": "2f0c7d28-a58f-41bc-b02e-ecb3449576c7",
   "metadata": {},
   "outputs": [
    {
     "name": "stdout",
     "output_type": "stream",
     "text": [
      "0\n",
      "2\n",
      "4\n",
      "6\n",
      "8\n",
      "10\n"
     ]
    }
   ],
   "source": [
    "i=0\n",
    "while i<11:\n",
    "    print (i)\n",
    "    i+=2"
   ]
  },
  {
   "cell_type": "code",
   "execution_count": 29,
   "id": "ae6653b0-ac52-4cc1-aee0-97ae4565d700",
   "metadata": {},
   "outputs": [
    {
     "name": "stdout",
     "output_type": "stream",
     "text": [
      "The sum of the first {n} natural numbers is: 1\n",
      "The sum of the first {n} natural numbers is: 3\n",
      "The sum of the first {n} natural numbers is: 6\n"
     ]
    }
   ],
   "source": [
    "i=1\n",
    "n=3\n",
    "sum=0\n",
    "while i <= n:\n",
    "    sum =sum + i\n",
    "    i =i+ 1\n",
    "    print(\"The sum of the first {n} natural numbers is:\",sum)"
   ]
  },
  {
   "cell_type": "code",
   "execution_count": 27,
   "id": "c0276e78-eecb-44e6-b2de-8258db5d4c2d",
   "metadata": {},
   "outputs": [
    {
     "name": "stdout",
     "output_type": "stream",
     "text": [
      "A\n",
      "B\n"
     ]
    }
   ],
   "source": [
    "l1= [\"A\",\"B\",\"C\",\"D\"]\n",
    "for x in l1:\n",
    " if x==\"C\":\n",
    "  break\n",
    " print(x)\n"
   ]
  },
  {
   "cell_type": "code",
   "execution_count": 29,
   "id": "45fd7678-82b2-4880-a636-5bab787e248c",
   "metadata": {},
   "outputs": [
    {
     "name": "stdout",
     "output_type": "stream",
     "text": [
      "A\n",
      "B\n",
      "D\n"
     ]
    }
   ],
   "source": [
    "l1= [\"A\",\"B\",\"C\",\"D\"]\n",
    "for x in l1:\n",
    " if x==\"C\":\n",
    "  continue\n",
    " print(x)"
   ]
  },
  {
   "cell_type": "code",
   "execution_count": 31,
   "id": "ec8817b5-31fe-42fe-ab12-ee6b05530cb0",
   "metadata": {},
   "outputs": [
    {
     "name": "stdout",
     "output_type": "stream",
     "text": [
      "2\n",
      "5\n",
      "8\n",
      "11\n",
      "14\n",
      "17\n",
      "20\n",
      "23\n",
      "26\n",
      "29\n"
     ]
    }
   ],
   "source": [
    "for x in range(2,30,3):\n",
    "    print(x)"
   ]
  },
  {
   "cell_type": "code",
   "execution_count": 35,
   "id": "e31025fc-7cf7-4c1d-b637-ad2d1c381163",
   "metadata": {},
   "outputs": [
    {
     "name": "stdout",
     "output_type": "stream",
     "text": [
      "1 google\n",
      "1 meta\n",
      "1 fujitsu\n",
      "2 google\n",
      "2 meta\n",
      "2 fujitsu\n",
      "3 google\n",
      "3 meta\n",
      "3 fujitsu\n"
     ]
    }
   ],
   "source": [
    "#nested for loops\n",
    "l2=[1,2,3]\n",
    "l3=[\"google\",\"meta\",\"fujitsu\"]\n",
    "for x in l2:\n",
    "    for y in l3:\n",
    "        print(x,y)"
   ]
  },
  {
   "cell_type": "code",
   "execution_count": 43,
   "id": "ac0e378e-4109-41c7-8370-5382f6fd0976",
   "metadata": {},
   "outputs": [],
   "source": [
    "#pass statement for loops cannot be empty \n",
    "#but if u for some reason have a for loop with no content, \n",
    "#put in the pass statement toavoid getting an error\n",
    "for x in [0,1,2]:\n",
    "    pass\n"
   ]
  },
  {
   "cell_type": "code",
   "execution_count": 45,
   "id": "c5f73d03-0dee-451a-86f4-35fe5fed540d",
   "metadata": {},
   "outputs": [
    {
     "name": "stdout",
     "output_type": "stream",
     "text": [
      "10\n",
      "9\n",
      "8\n",
      "7\n",
      "6\n",
      "5\n",
      "4\n",
      "3\n",
      "2\n",
      "1\n"
     ]
    }
   ],
   "source": [
    "i=10\n",
    "while i>:\n",
    "    print(i)\n",
    "    i=i-1"
   ]
  },
  {
   "cell_type": "code",
   "execution_count": 13,
   "id": "acf5c9d6-83ab-4e38-909e-307ed592a134",
   "metadata": {},
   "outputs": [
    {
     "name": "stdin",
     "output_type": "stream",
     "text": [
      "enter any number: 283\n"
     ]
    },
    {
     "name": "stdout",
     "output_type": "stream",
     "text": [
      "reverse of given number is: 3\n",
      "reverse of given number is: 38\n",
      "reverse of given number is: 382\n"
     ]
    }
   ],
   "source": [
    "#ways to find reverse of a number\n",
    "num=int(input(\"enter any number:\"))\n",
    "rev=0\n",
    "while(num>0):\n",
    "    rev=(rev*10)+num%10\n",
    "    num=num//10\n",
    "    print('reverse of given number is:',rev)\n",
    "    "
   ]
  },
  {
   "cell_type": "code",
   "execution_count": null,
   "id": "3d44e5af-88db-4c4d-bb31-337a7a6b48f7",
   "metadata": {},
   "outputs": [],
   "source": []
  }
 ],
 "metadata": {
  "kernelspec": {
   "display_name": "Python 3 (ipykernel)",
   "language": "python",
   "name": "python3"
  },
  "language_info": {
   "codemirror_mode": {
    "name": "ipython",
    "version": 3
   },
   "file_extension": ".py",
   "mimetype": "text/x-python",
   "name": "python",
   "nbconvert_exporter": "python",
   "pygments_lexer": "ipython3",
   "version": "3.12.4"
  }
 },
 "nbformat": 4,
 "nbformat_minor": 5
}
