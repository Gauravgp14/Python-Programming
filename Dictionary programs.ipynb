{
  "nbformat": 4,
  "nbformat_minor": 0,
  "metadata": {
    "colab": {
      "provenance": []
    },
    "kernelspec": {
      "name": "python3",
      "display_name": "Python 3"
    },
    "language_info": {
      "name": "python"
    }
  },
  "cells": [
    {
      "cell_type": "code",
      "source": [
        "#Sort Python Dictionaries by Key or Value\n",
        "car={\"brand\": \"tata\",\n",
        "  \"model\": \"nexon\",\n",
        "  \"year\": 2000}\n",
        "x = dict(sorted(car.items()))\n",
        "x"
      ],
      "metadata": {
        "colab": {
          "base_uri": "https://localhost:8080/"
        },
        "id": "OLlt-6nQJ8Bu",
        "outputId": "475c05bc-449b-49b1-d7b8-9bbade05587c"
      },
      "execution_count": 32,
      "outputs": [
        {
          "output_type": "execute_result",
          "data": {
            "text/plain": [
              "{'brand': 'tata', 'model': 'nexon', 'year': 2000}"
            ]
          },
          "metadata": {},
          "execution_count": 32
        }
      ]
    },
    {
      "cell_type": "code",
      "source": [
        "#Handling missing keys in Python dictionaries\n",
        "car={\"brand\": \"tat\",\n",
        "  \"model\": \"nexon\",\n",
        "  \"year\": 2000}\n",
        "\n",
        "x=car.get(\"color\",\"black\")\n",
        "print(x)\n",
        "value=car.setdefault(\"color\",\"black\")\n",
        "print(car)"
      ],
      "metadata": {
        "colab": {
          "base_uri": "https://localhost:8080/"
        },
        "id": "e9holL3oJ-x5",
        "outputId": "d519fb20-0908-46e2-98c9-b54f1ef950bb"
      },
      "execution_count": 33,
      "outputs": [
        {
          "output_type": "stream",
          "name": "stdout",
          "text": [
            "black\n",
            "{'brand': 'tat', 'model': 'nexon', 'year': 2000, 'color': 'black'}\n"
          ]
        }
      ]
    },
    {
      "cell_type": "code",
      "source": [
        "#Python dictionary with keys having multiple inputs\n",
        "dict1={\n",
        "    'name': ('gaurav', 'luv', 'ashish'),\n",
        "    'age': (21, 22, 22),\n",
        "    'city': ('uttarakhand', 'delhi', 'delhi')\n",
        "}\n",
        "dict1"
      ],
      "metadata": {
        "colab": {
          "base_uri": "https://localhost:8080/"
        },
        "id": "4Fv2PHHxKHVD",
        "outputId": "09cc0a49-06d4-4434-9ab9-0dc2acb2970f"
      },
      "execution_count": 34,
      "outputs": [
        {
          "output_type": "execute_result",
          "data": {
            "text/plain": [
              "{'name': ('gaurav', 'luv', 'ashish'),\n",
              " 'age': (21, 22, 22),\n",
              " 'city': ('uttarakhand', 'delhi', 'delhi')}"
            ]
          },
          "metadata": {},
          "execution_count": 34
        }
      ]
    },
    {
      "cell_type": "code",
      "source": [
        "#Python program to find the sum of all items in a dictionary\n",
        "dict1={\n",
        "    'name': ('gaurav', 'luv', 'ashish'),\n",
        "    'age': (21, 22, 22),\n",
        "    'city': ('uttarakhand', 'delhi', 'delhi')\n",
        "}\n",
        "print(sum(dict1['age']))"
      ],
      "metadata": {
        "colab": {
          "base_uri": "https://localhost:8080/"
        },
        "id": "7x3Qiux8KONG",
        "outputId": "aa0313fb-e333-46ee-bc99-819007a73c7e"
      },
      "execution_count": 35,
      "outputs": [
        {
          "output_type": "stream",
          "name": "stdout",
          "text": [
            "65\n"
          ]
        }
      ]
    },
    {
      "cell_type": "code",
      "source": [
        "#Python program to find the size of a Dictionary\n",
        "dict1={\n",
        "    'name': ('gaurav', 'luv', 'ashish'),\n",
        "    'age': (21, 22, 22),\n",
        "    'city': ('uttarakhand', 'delhi', 'delhi')\n",
        "}\n",
        "print(len(dict1))"
      ],
      "metadata": {
        "colab": {
          "base_uri": "https://localhost:8080/"
        },
        "id": "v4_lCF0_KWPD",
        "outputId": "f0465c42-bc6f-4f90-8a7b-0ecce2dd86bd"
      },
      "execution_count": 36,
      "outputs": [
        {
          "output_type": "stream",
          "name": "stdout",
          "text": [
            "3\n"
          ]
        }
      ]
    },
    {
      "cell_type": "code",
      "source": [
        "#Ways to sort list of dictionaries by values in Python – Using lambda function\n",
        "dict1={\n",
        "    'name': ('gaurav', 'luv', 'ashish'),\n",
        "    'city': ('uttarakhand', 'delhi', 'delhi')\n",
        "}\n",
        "print(sorted(dict1.items(),key=lambda x:x[1]))"
      ],
      "metadata": {
        "colab": {
          "base_uri": "https://localhost:8080/"
        },
        "id": "x-MA7VEeKbL7",
        "outputId": "ab17b82c-fa71-4af0-c3e6-5eb7d88704c7"
      },
      "execution_count": 41,
      "outputs": [
        {
          "output_type": "stream",
          "name": "stdout",
          "text": [
            "[('name', ('gaurav', 'luv', 'ashish')), ('city', ('uttarakhand', 'delhi', 'delhi'))]\n"
          ]
        }
      ]
    },
    {
      "cell_type": "code",
      "source": [
        "# Merging two Dictionaries\n",
        "dict1={\n",
        "    'name': ('gaurav', 'luv', 'ashish'),\n",
        "    'age': (21, 22, 22),\n",
        "    'city': ('uttarakhand', 'delhi', 'delhi')\n",
        "}\n",
        "dict2={\"brand\": \"tata\",\n",
        "  \"model\": \"nexon\",\n",
        "  \"year\": 2000}\n",
        "dict3=dict1.copy()\n",
        "dict3.update(dict2)\n",
        "dict3"
      ],
      "metadata": {
        "colab": {
          "base_uri": "https://localhost:8080/"
        },
        "id": "HZ2KoroCKfq4",
        "outputId": "44e0eb77-af5a-4635-ab4a-f43a460121d2"
      },
      "execution_count": 42,
      "outputs": [
        {
          "output_type": "execute_result",
          "data": {
            "text/plain": [
              "{'name': ('gaurav', 'luv', 'ashish'),\n",
              " 'age': (21, 22, 22),\n",
              " 'city': ('uttarakhand', 'delhi', 'delhi'),\n",
              " 'brand': 'tata',\n",
              " 'model': 'nexon',\n",
              " 'year': 2000}"
            ]
          },
          "metadata": {},
          "execution_count": 42
        }
      ]
    },
    {
      "cell_type": "code",
      "source": [
        "#Program to create grade calculator in Python\n",
        "def calculate_grade(score):\n",
        "   if score >=90 :\n",
        "    return \"A\"\n",
        "   elif score >=80:\n",
        "       return \"B\"\n",
        "   elif score >=70:\n",
        "          return \"C\"\n",
        "   elif score >=60:\n",
        "    return \"D\"\n",
        "   else:\n",
        "    return \"F\"\n",
        "   score =int(input(\"enter your score\"))\n",
        "   grade = calculate_grade(score)\n",
        "   print(f\"your grade is {grade}\")\n"
      ],
      "metadata": {
        "id": "BS3srUXKKmug"
      },
      "execution_count": 43,
      "outputs": []
    },
    {
      "cell_type": "code",
      "source": [
        "# Check order of character in string using OrderedDict( )\n",
        "from collections import OrderedDict\n",
        "def checkOrder(input, pattern):\n",
        "    dict = OrderedDict.fromkeys(input)"
      ],
      "metadata": {
        "id": "V5N29FtRKs9Z"
      },
      "execution_count": 46,
      "outputs": []
    },
    {
      "cell_type": "code",
      "source": [
        "#Find common elements in three sorted arrays by dictionary intersection\n",
        "array1 = [10,20,30,40]\n",
        "array2 = [20,30,40,55]\n",
        "array3 = [33,40,55,60]\n",
        "array5 = {x for x in array1 if x in array2 and x in array3}\n",
        "array5"
      ],
      "metadata": {
        "colab": {
          "base_uri": "https://localhost:8080/"
        },
        "id": "CHhpREmJKyNW",
        "outputId": "27332b7a-37a0-45fb-d095-e8895121bce1"
      },
      "execution_count": 49,
      "outputs": [
        {
          "output_type": "execute_result",
          "data": {
            "text/plain": [
              "{40}"
            ]
          },
          "metadata": {},
          "execution_count": 49
        }
      ]
    },
    {
      "cell_type": "code",
      "source": [
        "#Dictionary and counter in Python to find winner of election\n",
        "votes = [\"Bob\",\"bob\",\"john\",\"john\",\"john\",\"jack\",\"Marie\",\"john\",\"john\",\"julie\",\"jack\",\"Bob\"]\n",
        "from collections import Counter\n",
        "vote_count = Counter(votes)\n",
        "vote_count"
      ],
      "metadata": {
        "colab": {
          "base_uri": "https://localhost:8080/"
        },
        "id": "Khe1E3bnK6I1",
        "outputId": "a5b8522b-978d-450c-f661-2df0856ddf6a"
      },
      "execution_count": 53,
      "outputs": [
        {
          "output_type": "execute_result",
          "data": {
            "text/plain": [
              "Counter({'Bob': 2, 'bob': 1, 'john': 5, 'jack': 2, 'Marie': 1, 'julie': 1})"
            ]
          },
          "metadata": {},
          "execution_count": 53
        }
      ]
    },
    {
      "cell_type": "code",
      "source": [
        "#Python – Key with maximum unique values\n",
        "dict1={\n",
        "    'name': ('gaurav', 'luv', 'ashish'),\n",
        "    'age': (21, 22, 22),\n",
        "    'city': ('uttarakhand', 'delhi', 'delhi')\n",
        "}\n",
        "max_unique_values = max(dict1.items(), key=lambda x: len(set(x[1])))\n",
        "max_unique_values"
      ],
      "metadata": {
        "colab": {
          "base_uri": "https://localhost:8080/"
        },
        "id": "74rqM7a3K-JB",
        "outputId": "94ff2d6c-a994-4c10-98b9-fdbd1d736aa0"
      },
      "execution_count": 54,
      "outputs": [
        {
          "output_type": "execute_result",
          "data": {
            "text/plain": [
              "('name', ('gaurav', 'luv', 'ashish'))"
            ]
          },
          "metadata": {},
          "execution_count": 54
        }
      ]
    },
    {
      "cell_type": "code",
      "source": [
        "#Python – Group Similar items to Dictionary Values List\n",
        "dict1={\n",
        "    'name': ('gaurav', 'luv', 'ashish'),\n",
        "    'age': (21, 22, 22),\n",
        "    'city': ('uttarakhand', 'delhi', 'delhi')}\n",
        "dict2 = {}\n",
        "for key,value in dict1.items():\n",
        "    dict2.setdefault(tuple(value),[]).append(key)\n",
        "dict2"
      ],
      "metadata": {
        "colab": {
          "base_uri": "https://localhost:8080/"
        },
        "id": "MAIWQo0FLqM_",
        "outputId": "4784d561-bdb0-4e7e-ef8a-e870887d769a"
      },
      "execution_count": 55,
      "outputs": [
        {
          "output_type": "execute_result",
          "data": {
            "text/plain": [
              "{('gaurav', 'luv', 'ashish'): ['name'],\n",
              " (21, 22, 22): ['age'],\n",
              " ('uttarakhand', 'delhi', 'delhi'): ['city']}"
            ]
          },
          "metadata": {},
          "execution_count": 55
        }
      ]
    },
    {
      "cell_type": "code",
      "source": [
        "#K’th Non-repeating Character in Python using List Comprehension and OrderedDict\n",
        "dict1={\n",
        "    'name': ('gaurav', 'luv', 'ashish'),\n",
        "    'age': (21, 22, 22),\n",
        "    'city': ('uttarakhand', 'delhi', 'delhi')}\n",
        "dict2 = {}\n"
      ],
      "metadata": {
        "id": "wyZl9vkPL5Dy"
      },
      "execution_count": 56,
      "outputs": []
    },
    {
      "cell_type": "code",
      "source": [
        "#19. Python | Ways to remove a key from dictionary\n",
        "dict1={\n",
        "    'name': ('gaurav', 'luv', 'ashish'),\n",
        "    'age': (21, 22, 22),\n",
        "    'city': ('uttarakhand', 'delhi', 'delhi')}\n",
        "del dict1['name']\n",
        "dict1\n",
        "#way 2\n",
        "dict1={\n",
        "    'name': ('gaurav', 'luv', 'ashish'),\n",
        "    'age': (21, 22, 22),\n",
        "    'city': ('uttarakhand', 'delhi', 'delhi')}\n",
        "dict1.pop('name')\n",
        "dict1\n",
        "# way 3\n",
        "dict1={\n",
        "    'name': ('gaurav', 'luv', 'ashish'),\n",
        "    'age': (21, 22, 22),\n",
        "    'city': ('uttarakhand', 'delhi', 'delhi')}\n",
        "dict1 = {key: value for key, value in dict1.items() if key != 'name'}\n",
        "dict1"
      ],
      "metadata": {
        "colab": {
          "base_uri": "https://localhost:8080/"
        },
        "id": "Nzy0ogQCMLG7",
        "outputId": "1198983e-1bbd-437b-f5a2-2c05eb5d61e0"
      },
      "execution_count": 57,
      "outputs": [
        {
          "output_type": "execute_result",
          "data": {
            "text/plain": [
              "{'age': (21, 22, 22), 'city': ('uttarakhand', 'delhi', 'delhi')}"
            ]
          },
          "metadata": {},
          "execution_count": 57
        }
      ]
    }
  ]
}