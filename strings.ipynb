{
 "cells": [
  {
   "cell_type": "code",
   "execution_count": 1,
   "id": "fa6088ca-abf3-4372-ba37-e4935a387072",
   "metadata": {},
   "outputs": [
    {
     "name": "stdout",
     "output_type": "stream",
     "text": [
      "range(6, 15)\n",
      "<class 'range'>\n"
     ]
    }
   ],
   "source": [
    "x=range(6,15)\n",
    "print(x)\n",
    "print(type(x))"
   ]
  },
  {
   "cell_type": "code",
   "execution_count": 7,
   "id": "595252b4-b9f5-4206-85dd-a9f8912a1314",
   "metadata": {},
   "outputs": [
    {
     "name": "stdout",
     "output_type": "stream",
     "text": [
      "['apple', 'banana', 'mango']\n",
      "<class 'list'>\n"
     ]
    }
   ],
   "source": [
    "x=[\"apple\",\"banana\",\"mango\"]\n",
    "print(x)\n",
    "print(type(x))"
   ]
  },
  {
   "cell_type": "code",
   "execution_count": 11,
   "id": "6e4cde80-a785-4621-bdb5-20ccbb4dc877",
   "metadata": {},
   "outputs": [
    {
     "name": "stdout",
     "output_type": "stream",
     "text": [
      "{'banana', 'mango', 'apple'}\n",
      "<class 'set'>\n"
     ]
    }
   ],
   "source": [
    "x={\"apple\",\"banana\",\"mango\"}\n",
    "print(x)\n",
    "print(type(x))"
   ]
  },
  {
   "cell_type": "code",
   "execution_count": 13,
   "id": "022b60b2-af16-486c-9a7f-570e1e0c0b5c",
   "metadata": {},
   "outputs": [
    {
     "name": "stdout",
     "output_type": "stream",
     "text": [
      "('apple', 'banana', 'mango')\n",
      "<class 'tuple'>\n"
     ]
    }
   ],
   "source": [
    "x=(\"apple\",\"banana\",\"mango\")\n",
    "print(x)\n",
    "print(type(x))"
   ]
  },
  {
   "cell_type": "code",
   "execution_count": 17,
   "id": "8297328a-d0f9-409f-b237-b499f735a513",
   "metadata": {},
   "outputs": [
    {
     "name": "stdout",
     "output_type": "stream",
     "text": [
      "{'name': 'gaurav', 'age': '20'}\n",
      "<class 'dict'>\n"
     ]
    }
   ],
   "source": [
    "x={\"name\":\"gaurav\",\"age\":\"20\"}\n",
    "print(x)\n",
    "print(type(x))"
   ]
  },
  {
   "cell_type": "code",
   "execution_count": 21,
   "id": "81428906-f470-4916-8b13-74bdea32b225",
   "metadata": {},
   "outputs": [
    {
     "name": "stdout",
     "output_type": "stream",
     "text": [
      "{'sbsh', 'mango', 'apple', 'banana', 'han', 'sbshhs'}\n",
      "<class 'set'>\n"
     ]
    }
   ],
   "source": [
    "x={\"apple\",\"banana\",\"mango\",\"han\",\"sbshhs\",\"sbsh\"}\n",
    "print(x)\n",
    "print(type(x))"
   ]
  },
  {
   "cell_type": "code",
   "execution_count": 23,
   "id": "fe4fabbb-0cb5-42bd-bfdb-65cb92ccaabd",
   "metadata": {},
   "outputs": [
    {
     "name": "stdout",
     "output_type": "stream",
     "text": [
      "[5, 6]\n"
     ]
    }
   ],
   "source": [
    "l1=[1,2,3,4,5,6,7,8]\n",
    "print(l1[-4:-2])"
   ]
  },
  {
   "cell_type": "code",
   "execution_count": 7,
   "id": "e1eccc9a-73e4-411e-a9b3-9eddc7d6090a",
   "metadata": {},
   "outputs": [
    {
     "name": "stdout",
     "output_type": "stream",
     "text": [
      "[1, 2, 3, 4, 5, 6, 7]\n"
     ]
    }
   ],
   "source": [
    "l1=[1,2,3,4,5,6,7,8]\n",
    "print(l1[:-1])"
   ]
  },
  {
   "cell_type": "code",
   "execution_count": 15,
   "id": "1ecd3baa-5c37-4430-bbe5-c9b4f6dc2348",
   "metadata": {},
   "outputs": [
    {
     "name": "stdout",
     "output_type": "stream",
     "text": [
      "[1, 2, 3, 4, 5, 6, 7, 8]\n"
     ]
    }
   ],
   "source": [
    "l1=[1,2,3,4,5,6,7,8]\n",
    "print(l1[-8:])"
   ]
  },
  {
   "cell_type": "code",
   "execution_count": 25,
   "id": "b3267f03-f141-48c7-8ffa-a89ccd13e3f0",
   "metadata": {},
   "outputs": [
    {
     "name": "stdout",
     "output_type": "stream",
     "text": [
      "['banana', 'apple', 'cherry', 'orange']\n",
      "['guava']\n",
      "['mango', 'banana', 'apple', 'cherry', 'orange', 'kiwi']\n",
      "['mango', 'banana', 'apple', 'cherry', 'orange', 'kiwi', 'guava']\n",
      "['banana', 'apple', 'cherry']\n"
     ]
    }
   ],
   "source": [
    "fruits=[\"mango\",\"banana\",\"apple\",\"cherry\",\"orange\",\"kiwi\",\"guava\"]\n",
    "print(fruits[1:5])\n",
    "print(fruits[6:])\n",
    "print(fruits[:-1])\n",
    "print(fruits[-8:])\n",
    "print(fruits[-6:-3])"
   ]
  }
 ],
 "metadata": {
  "kernelspec": {
   "display_name": "Python 3 (ipykernel)",
   "language": "python",
   "name": "python3"
  },
  "language_info": {
   "codemirror_mode": {
    "name": "ipython",
    "version": 3
   },
   "file_extension": ".py",
   "mimetype": "text/x-python",
   "name": "python",
   "nbconvert_exporter": "python",
   "pygments_lexer": "ipython3",
   "version": "3.12.4"
  }
 },
 "nbformat": 4,
 "nbformat_minor": 5
}
