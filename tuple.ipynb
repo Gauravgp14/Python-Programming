{
 "cells": [
  {
   "cell_type": "code",
   "execution_count": 9,
   "id": "bc74738a-280e-4e02-a269-97417484fef6",
   "metadata": {},
   "outputs": [
    {
     "name": "stdout",
     "output_type": "stream",
     "text": [
      "apple\n",
      "<class 'str'>\n"
     ]
    }
   ],
   "source": [
    "t1=(\"apple\")\n",
    "print (t1)\n",
    "print(type(t1))\n",
    "# to show type tupe put comma after single string"
   ]
  },
  {
   "cell_type": "code",
   "execution_count": 7,
   "id": "2cd2f62c-bc00-4d5d-bd0f-9dfb0c7fc54b",
   "metadata": {},
   "outputs": [
    {
     "name": "stdout",
     "output_type": "stream",
     "text": [
      "('apple',)\n",
      "<class 'tuple'>\n"
     ]
    }
   ],
   "source": [
    "t1=('apple',)\n",
    "print(t1)\n",
    "print (type(t1))"
   ]
  },
  {
   "cell_type": "code",
   "execution_count": 15,
   "id": "e6cba803-4c8f-4b36-9ecc-d5ac8de891ac",
   "metadata": {},
   "outputs": [
    {
     "name": "stdout",
     "output_type": "stream",
     "text": [
      "banana\n",
      "kiwi\n"
     ]
    }
   ],
   "source": [
    "t1=(\"apple\",\"banana\",\"cherry\",\"kiwi\")\n",
    "print(t1[1])\n",
    "print(t1[-1])\n",
    "      "
   ]
  },
  {
   "cell_type": "code",
   "execution_count": 17,
   "id": "5cf79f04-5e9f-4662-9709-a7786342ffaa",
   "metadata": {},
   "outputs": [
    {
     "name": "stdout",
     "output_type": "stream",
     "text": [
      "('banana', 'kiwi')\n"
     ]
    }
   ],
   "source": [
    "t1=(\"apple\",\"banana\",\"kiwi\",\"orange\")\n",
    "print(t1[1:3])\n"
   ]
  },
  {
   "cell_type": "code",
   "execution_count": 21,
   "id": "00c9b7a3-bad0-4ed0-85f8-5b9db69ecefc",
   "metadata": {},
   "outputs": [
    {
     "name": "stdout",
     "output_type": "stream",
     "text": [
      "('banana', 'kiwi')\n"
     ]
    }
   ],
   "source": [
    "t1=(\"apple\",\"banana\",\"kiwi\",\"orange\")\n",
    "print(t1[-3:-1])"
   ]
  },
  {
   "cell_type": "code",
   "execution_count": 29,
   "id": "95064190-bbc4-42d6-a579-c2edfa129ec1",
   "metadata": {},
   "outputs": [
    {
     "name": "stdout",
     "output_type": "stream",
     "text": [
      "('apple', 'banana', 'kiwi', 'orange')\n",
      "('banana', 'kiwi', 'orange')\n"
     ]
    }
   ],
   "source": [
    "t1=(\"apple\",\"banana\",\"kiwi\",\"orange\")\n",
    "print(t1[:4])\n",
    "print(t1[-3:])"
   ]
  },
  {
   "cell_type": "code",
   "execution_count": 45,
   "id": "1378147c-4f0d-4cab-a085-d7351d386b35",
   "metadata": {},
   "outputs": [
    {
     "name": "stdout",
     "output_type": "stream",
     "text": [
      "('apple', 'banana', 'mango', 'orange')\n"
     ]
    }
   ],
   "source": [
    "t1=(\"apple\",\"banana\",\"kiwi\",\"orange\")\n",
    "y=list(t1)\n",
    "y[2]=\"mango\"\n",
    "x= tuple(y)\n",
    "print (x)"
   ]
  },
  {
   "cell_type": "code",
   "execution_count": 9,
   "id": "678b68e5-4898-4635-aba2-b62acb6e6bab",
   "metadata": {},
   "outputs": [
    {
     "name": "stdout",
     "output_type": "stream",
     "text": [
      "('banana', 'kiwi', 'orange', 'grapes')\n"
     ]
    }
   ],
   "source": [
    "t1=(\"apple\",\"banana\",\"kiwi\",\"orange\")\n",
    "y=list(t1)\n",
    "y.remove(\"apple\")\n",
    "y.append(\"grapes\")\n",
    "t1=tuple(y)\n",
    "print (t1)"
   ]
  },
  {
   "cell_type": "code",
   "execution_count": 13,
   "id": "ca727b59-2225-4367-9720-56ac882a84be",
   "metadata": {},
   "outputs": [
    {
     "name": "stdout",
     "output_type": "stream",
     "text": [
      "('apple', 'banana', 'kiwi', 'orange', 'grapes', 'watermelon')\n"
     ]
    }
   ],
   "source": [
    "t1=(\"apple\",\"banana\",\"kiwi\",\"orange\")\n",
    "y=(\"grapes\",\"watermelon\")\n",
    "t1 +=y\n",
    "print(t1)"
   ]
  },
  {
   "cell_type": "code",
   "execution_count": 15,
   "id": "70b6662e-b71d-4d48-8b8b-ba1358599929",
   "metadata": {},
   "outputs": [
    {
     "name": "stdout",
     "output_type": "stream",
     "text": [
      "('apple', 'banana', 'kiwi', 'orange', 1, 2, 3, 4)\n"
     ]
    }
   ],
   "source": [
    "t1=(\"apple\",\"banana\",\"kiwi\",\"orange\")\n",
    "t2=(1,2,3,4)\n",
    "t3=t1+t2\n",
    "print(t3)"
   ]
  },
  {
   "cell_type": "code",
   "execution_count": 25,
   "id": "b0c8eb64-7b7c-4f26-9809-d0350d2f2bfa",
   "metadata": {},
   "outputs": [
    {
     "name": "stdout",
     "output_type": "stream",
     "text": [
      "('apple', 'banana', 'kiwi', 'orange', 'apple', 'banana', 'kiwi', 'orange')\n"
     ]
    }
   ],
   "source": [
    "t1=(\"apple\",\"banana\",\"kiwi\",\"orange\")\n",
    "t2=t1*2\n",
    "print(t2)"
   ]
  },
  {
   "cell_type": "code",
   "execution_count": 31,
   "id": "3043a19d-e460-4d8e-852e-a8fd237e0d84",
   "metadata": {},
   "outputs": [
    {
     "name": "stdout",
     "output_type": "stream",
     "text": [
      "3\n",
      "5\n"
     ]
    }
   ],
   "source": [
    "t1=(1,2,3,4,5,6,3,7,3)\n",
    "y=t1.count(3)\n",
    "print(y)\n",
    "t1=(1,2,3,4,5,6,3,7,3)\n",
    "y=t1.index(6)\n",
    "print(y)"
   ]
  }
 ],
 "metadata": {
  "kernelspec": {
   "display_name": "Python 3 (ipykernel)",
   "language": "python",
   "name": "python3"
  },
  "language_info": {
   "codemirror_mode": {
    "name": "ipython",
    "version": 3
   },
   "file_extension": ".py",
   "mimetype": "text/x-python",
   "name": "python",
   "nbconvert_exporter": "python",
   "pygments_lexer": "ipython3",
   "version": "3.12.4"
  }
 },
 "nbformat": 4,
 "nbformat_minor": 5
}
